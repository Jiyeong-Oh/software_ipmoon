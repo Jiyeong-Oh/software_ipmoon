{
 "cells": [
  {
   "cell_type": "code",
   "execution_count": 12,
   "metadata": {},
   "outputs": [
    {
     "name": "stdout",
     "output_type": "stream",
     "text": [
      "you are in a land full of dragons.\n",
      "In front of you there is two caves.\n",
      "In one cave, the dragaon is so friendly so it gives you a presents.\n",
      "In another cave, the greedy dragon is waiting for you and it is ready to eat you.\n",
      "\n",
      "which cave you want to enter?(1 or 2)\n",
      "1\n",
      "Approaching the cave,,,\n",
      "Dark and spooky here,,\n",
      "A large dragon jumps out in front of you! He opens his mouth and,,\n",
      "\n",
      "The dragon gives you a present!\n",
      "Do you wanna play the game again?\n",
      "y\n",
      "you are in a land full of dragons.\n",
      "In front of you there is two caves.\n",
      "In one cave, the dragaon is so friendly so it gives you a presents.\n",
      "In another cave, the greedy dragon is waiting for you and it is ready to eat you.\n",
      "\n",
      "which cave you want to enter?(1 or 2)\n",
      "1\n",
      "Approaching the cave,,,\n",
      "Dark and spooky here,,\n",
      "A large dragon jumps out in front of you! He opens his mouth and,,\n",
      "\n",
      "The dragon ate you in a bite!\n",
      "Do you wanna play the game again?\n",
      "n\n"
     ]
    }
   ],
   "source": [
    "import time\n",
    "def intro():\n",
    "    print('you are in a land full of dragons.\\nIn front of you there is two caves.\\nIn one cave, the dragaon is so friendly so it gives you a presents.\\nIn another cave, the greedy dragon is waiting for you and it is ready to eat you.')\n",
    "    print()\n",
    "\n",
    "def chooseCave():\n",
    "    cave=''\n",
    "    while cave !='1' and cave !='2':\n",
    "        print('which cave you want to enter?(1 or 2)')\n",
    "        cave=input()\n",
    "    return cave\n",
    "\n",
    "def checkCave(chosenCave):\n",
    "    print('Approaching the cave,,,')\n",
    "    time.sleep(2)\n",
    "    print('Dark and spooky here,,')\n",
    "    time.sleep(2)\n",
    "    print('A large dragon jumps out in front of you! He opens his mouth and,,')\n",
    "    time.sleep(2)\n",
    "    print()\n",
    "    import random\n",
    "    FriendlyCave=random.randint(1,2) # creating (1 and 2) random number\n",
    "    \n",
    "    if chosenCave==str(FriendlyCave): # 내가 랜덤하게 설정된 Friendly cave를 잘 맞췄다면\n",
    "        print('The dragon gives you a present!')\n",
    "    else:\n",
    "        print('The dragon ate you in a bite!')\n",
    "\n",
    "playAgain='yes'\n",
    "\n",
    "while playAgain=='yes' or playAgain=='y':\n",
    "    intro()\n",
    "    playersChoice = chooseCave()\n",
    "    checkCave(playersChoice)\n",
    "    print('Do you wanna play the game again?')\n",
    "    playAgain=input()\n",
    "\n",
    "    \n",
    "#dragonRealm()"
   ]
  },
  {
   "cell_type": "code",
   "execution_count": 4,
   "metadata": {},
   "outputs": [
    {
     "name": "stdout",
     "output_type": "stream",
     "text": [
      "p q False\n",
      "p True\n"
     ]
    }
   ],
   "source": [
    "# 참고\n",
    "def p():\n",
    "    print('p', end=' ')\n",
    "    return True\n",
    "\n",
    "def q():\n",
    "    print('q', end=' ')\n",
    "    return False\n",
    "\n",
    "print(p() and q())\n",
    "print(p() or q()) # q는 볼 필요도 없이 True이기 때문에 q()를 실행하지 않음\n",
    "\n",
    "# True or False == True\n",
    "# True and False ==False\n",
    "# True and True == True"
   ]
  },
  {
   "cell_type": "code",
   "execution_count": 5,
   "metadata": {},
   "outputs": [
    {
     "name": "stdout",
     "output_type": "stream",
     "text": [
      "a this\n",
      "a that\n"
     ]
    }
   ],
   "source": [
    "#참고2\n",
    "def just():\n",
    "    global this # def 밖에서도 인식해주라는 말\n",
    "    print('a '+this)\n",
    "    this= 'that'\n",
    "    print('a '+this)\n",
    "\n",
    "this= 'this'\n",
    "just()"
   ]
  },
  {
   "cell_type": "code",
   "execution_count": 7,
   "metadata": {},
   "outputs": [],
   "source": [
    "global that\n",
    "\n",
    "def test():\n",
    "    print(that)\n",
    "#오류가 안남"
   ]
  },
  {
   "cell_type": "code",
   "execution_count": 10,
   "metadata": {},
   "outputs": [
    {
     "name": "stdout",
     "output_type": "stream",
     "text": [
      "no error here\n"
     ]
    }
   ],
   "source": [
    "that='no error here'\n",
    "test()"
   ]
  },
  {
   "cell_type": "code",
   "execution_count": null,
   "metadata": {},
   "outputs": [],
   "source": []
  }
 ],
 "metadata": {
  "kernelspec": {
   "display_name": "Python 3",
   "language": "python",
   "name": "python3"
  },
  "language_info": {
   "codemirror_mode": {
    "name": "ipython",
    "version": 3
   },
   "file_extension": ".py",
   "mimetype": "text/x-python",
   "name": "python",
   "nbconvert_exporter": "python",
   "pygments_lexer": "ipython3",
   "version": "3.8.5"
  }
 },
 "nbformat": 4,
 "nbformat_minor": 4
}
