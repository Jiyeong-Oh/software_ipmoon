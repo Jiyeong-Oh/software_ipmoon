{
 "cells": [
  {
   "cell_type": "code",
   "execution_count": 2,
   "metadata": {},
   "outputs": [
    {
     "name": "stdout",
     "output_type": "stream",
     "text": [
      "Hello world!\n",
      "What is your name?\n",
      "jiyeong\n",
      "It is good to meet you, jiyeong\n"
     ]
    }
   ],
   "source": [
    "# say hello and ask for my name\n",
    "print('Hello world!')\n",
    "print('What is your name?')\n",
    "myName = input()\n",
    "print('It is good to meet you, '+myName)"
   ]
  },
  {
   "cell_type": "code",
   "execution_count": 5,
   "metadata": {},
   "outputs": [
    {
     "name": "stdout",
     "output_type": "stream",
     "text": [
      "Tell me what your favorite color is\n",
      "blue\n",
      "Tell me what your favorite animal is\n",
      "kitty\n",
      "Tell me what your favorite food is\n",
      "chicken\n",
      "You entered: blue kitty chicken\n",
      "Color: blue\n",
      "Animal: kitty\n",
      "Food: chicken\n"
     ]
    }
   ],
   "source": [
    "#favorites\n",
    "print('Tell me what your favorite color is')\n",
    "favoriteColor=input()\n",
    "\n",
    "print('Tell me what your favorite animal is')\n",
    "favoriteAnimal=input()\n",
    "\n",
    "print('Tell me what your favorite food is')\n",
    "favoriteFood=input()\n",
    "\n",
    "print('You entered: '+ favoriteColor+' '+favoriteAnimal+' '+favoriteFood)\n",
    "print('Color: '+favoriteColor+\n",
    "      '\\nAnimal: '+favoriteAnimal+\n",
    "     '\\nFood: '+favoriteFood)"
   ]
  },
  {
   "cell_type": "code",
   "execution_count": 6,
   "metadata": {},
   "outputs": [
    {
     "name": "stdout",
     "output_type": "stream",
     "text": [
      "20\n",
      "40\n"
     ]
    }
   ],
   "source": [
    "#input함수에 넣은 값은 무조건 string으로 인식된다\n",
    "num1=20\n",
    "num2=input() #20을 넣을 것\n",
    "print(num1+int(num2)) # 그냥 num1+num2가 아니라 int 해주는 것 기억하기"
   ]
  },
  {
   "cell_type": "code",
   "execution_count": 8,
   "metadata": {},
   "outputs": [
    {
     "name": "stdout",
     "output_type": "stream",
     "text": [
      "hello world\n"
     ]
    }
   ],
   "source": [
    "print('hello', 'world') # +안써도 ok"
   ]
  },
  {
   "cell_type": "code",
   "execution_count": null,
   "metadata": {},
   "outputs": [],
   "source": []
  }
 ],
 "metadata": {
  "kernelspec": {
   "display_name": "Python 3",
   "language": "python",
   "name": "python3"
  },
  "language_info": {
   "codemirror_mode": {
    "name": "ipython",
    "version": 3
   },
   "file_extension": ".py",
   "mimetype": "text/x-python",
   "name": "python",
   "nbconvert_exporter": "python",
   "pygments_lexer": "ipython3",
   "version": "3.8.5"
  }
 },
 "nbformat": 4,
 "nbformat_minor": 4
}
