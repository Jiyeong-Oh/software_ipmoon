{
 "cells": [
  {
   "cell_type": "code",
   "execution_count": 3,
   "metadata": {},
   "outputs": [
    {
     "name": "stdout",
     "output_type": "stream",
     "text": [
      "What is your name?\n",
      "jiyeong\n",
      "jiyeong let you guess the number between 1 and 20\n",
      "Take a guess\n",
      "10\n",
      "Your guess is too high.\n",
      "Take a guess\n",
      "5\n",
      "Your guess is too low.\n",
      "Take a guess\n",
      "7\n",
      "Your guess is too low.\n",
      "Take a guess\n",
      "8\n",
      "Your guess is too low.\n",
      "Take a guess\n",
      "9\n",
      "You got correct.\n"
     ]
    }
   ],
   "source": [
    "#1에서 20 사이의 수를 up down만의 guess로 5회만에 맞추는 게임\n",
    "import random\n",
    "\n",
    "number=random.randint(1,20) #답\n",
    "guessTrial=0\n",
    "\n",
    "print('What is your name?')\n",
    "myName=input()\n",
    "print(myName, 'let you guess the number between 1 and 20')\n",
    "\n",
    "while guessTrial<6:\n",
    "    print('Take a guess')\n",
    "    guess=int(input())\n",
    "    guessTrial+=1\n",
    "    if guess<number:\n",
    "        print('Your guess is too low.')\n",
    "    elif guess>number:\n",
    "        print('Your guess is too high.')\n",
    "    elif guess==number:\n",
    "        break\n",
    "if guess==number:\n",
    "    print('You got correct.')\n",
    "if guess!=number:\n",
    "    print('You got wrong.')"
   ]
  },
  {
   "cell_type": "markdown",
   "metadata": {},
   "source": [
    "## More About Print(\\) escape chatacter"
   ]
  },
  {
   "cell_type": "code",
   "execution_count": 13,
   "metadata": {},
   "outputs": [
    {
     "name": "stdout",
     "output_type": "stream",
     "text": [
      "te'st\n",
      "te\"st\n",
      "\n",
      "\n",
      "asdf\n",
      "asdf\n",
      "\n",
      "\n",
      "\\를 출력하고 싶을 때\n",
      "asdf\\\n",
      "\n",
      "\n",
      "what do dentists call an astronaut\u0007\n"
     ]
    }
   ],
   "source": [
    "print('te\\'st') #'를 표현하고 싶다면 \\'\n",
    "print('te\"st')\n",
    "print('\\n')\n",
    "print('asdf\\nasdf')\n",
    "print('\\n')\n",
    "print('\\를 출력하고 싶을 때')\n",
    "print('asdf\\\\') \n",
    "print('\\n')\n",
    "print('what do dentists call an astronaut\\a')"
   ]
  },
  {
   "cell_type": "code",
   "execution_count": 16,
   "metadata": {},
   "outputs": [
    {
     "name": "stdout",
     "output_type": "stream",
     "text": [
      "first line\n",
      "second line\n",
      "first line second line?\n"
     ]
    }
   ],
   "source": [
    "#공백 출력의 또다른 방법\n",
    "print('first line') #뒤에 end='\\n'이 생략되어 있음\n",
    "print('second line')\n",
    "\n",
    "print('first line', end=' ')\n",
    "print('second line?')"
   ]
  }
 ],
 "metadata": {
  "kernelspec": {
   "display_name": "Python 3",
   "language": "python",
   "name": "python3"
  },
  "language_info": {
   "codemirror_mode": {
    "name": "ipython",
    "version": 3
   },
   "file_extension": ".py",
   "mimetype": "text/x-python",
   "name": "python",
   "nbconvert_exporter": "python",
   "pygments_lexer": "ipython3",
   "version": "3.8.5"
  }
 },
 "nbformat": 4,
 "nbformat_minor": 4
}
